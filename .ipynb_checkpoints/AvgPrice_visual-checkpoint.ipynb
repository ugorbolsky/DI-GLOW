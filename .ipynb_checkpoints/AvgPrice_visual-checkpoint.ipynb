{
 "cells": [
  {
   "cell_type": "code",
   "execution_count": 2,
   "metadata": {
    "collapsed": true
   },
   "outputs": [],
   "source": [
    "import urllib2\n",
    "import json\n",
    "import numpy as np\n",
    "import pylab\n",
    "from bokeh.plotting import figure, output_file, show\n",
    "from bokeh.palettes import Spectral11\n",
    "import pandas as pd\n",
    "from bs4 import BeautifulSoup"
   ]
  },
  {
   "cell_type": "code",
   "execution_count": 3,
   "metadata": {
    "collapsed": false
   },
   "outputs": [],
   "source": [
    "# STEP 1: Create Database with prices 2000-2016\n",
    "def pullDates():\n",
    "    api_key='2B175EF8A024C543D84E2A581F139C0A'        \n",
    "    url='http://api.eia.gov/series/?api_key='+ api_key+'&series_id=ELEC.PRICE.CA-ALL.M'\n",
    "    json_obj= urllib2.urlopen(url)\n",
    "    data = json.load(json_obj)\n",
    "    dates=[]     \n",
    "    for i in data['series'][0]['data']:\n",
    "        dates.append(i[0])\n",
    "    #statePrice=pd.DataFrame(np.nan)   \n",
    "    return dates\n",
    "dates=pullDates()\n",
    "#print dates"
   ]
  },
  {
   "cell_type": "code",
   "execution_count": 4,
   "metadata": {
    "collapsed": false
   },
   "outputs": [],
   "source": [
    "def pullDataByState(state):\n",
    "    api_key='2B175EF8A024C543D84E2A581F139C0A'        \n",
    "    url='http://api.eia.gov/series/?api_key='+ api_key+'&series_id=ELEC.PRICE.'+str(state)+ '-ALL.M'\n",
    "    json_obj= urllib2.urlopen(url)\n",
    "    data = json.load(json_obj)\n",
    "    prices=[]     \n",
    "    for i in data['series'][0]['data']:\n",
    "        prices.append(i[1])\n",
    "    #statePrice=pd.DataFrame(np.nan)   \n",
    "    return prices\n",
    "#print pullDataByState('CA')"
   ]
  },
  {
   "cell_type": "code",
   "execution_count": 21,
   "metadata": {
    "collapsed": false
   },
   "outputs": [],
   "source": [
    "States=['AL','AK','AZ','AR','CA','CO','CT','DE','FL','GA','HI','ID','IL','IN','IA','KS','KY','LA','ME','MD','MA','MI','MN','MS','MO','MT','NE','NV','NH','NJ','NM','NY','NC','ND','OH','OK','OR','PA','RI','SC','SD','TN','TX','UT','VT','VA','WA','WV','WI','WY']\n",
    "\n",
    "def PriceDF():\n",
    "    df=pd.DataFrame(np.nan, index=pullDates(), columns=States)    \n",
    "    for state in States:\n",
    "        df[state]=pullDataByState(state)\n",
    "    return df\n",
    "    \n",
    "a=PriceDF()\n",
    "b=a.transpose()\n",
    "b.head()"
   ]
  },
  {
   "cell_type": "code",
   "execution_count": 6,
   "metadata": {
    "collapsed": false
   },
   "outputs": [],
   "source": [
    "#Left for when I attempt to make it dynamic\n",
    "#a = a.reset_index()\n",
    "#a=a.rename(columns={\"index\": \"year_month\"})\n",
    "#a['Month']=[(str(i[:4])+'-'+str(i[4:])) for i in a['year_month']]"
   ]
  },
  {
   "cell_type": "code",
   "execution_count": 22,
   "metadata": {
    "collapsed": false
   },
   "outputs": [
    {
     "data": {
      "text/html": [
       "<div>\n",
       "<table border=\"1\" class=\"dataframe\">\n",
       "  <thead>\n",
       "    <tr style=\"text-align: right;\">\n",
       "      <th></th>\n",
       "      <th>201603</th>\n",
       "      <th>201602</th>\n",
       "      <th>201601</th>\n",
       "      <th>201512</th>\n",
       "      <th>201511</th>\n",
       "      <th>201510</th>\n",
       "      <th>201509</th>\n",
       "      <th>201508</th>\n",
       "      <th>201507</th>\n",
       "      <th>201506</th>\n",
       "      <th>...</th>\n",
       "      <th>200110</th>\n",
       "      <th>200109</th>\n",
       "      <th>200108</th>\n",
       "      <th>200107</th>\n",
       "      <th>200106</th>\n",
       "      <th>200105</th>\n",
       "      <th>200104</th>\n",
       "      <th>200103</th>\n",
       "      <th>200102</th>\n",
       "      <th>200101</th>\n",
       "    </tr>\n",
       "  </thead>\n",
       "  <tbody>\n",
       "    <tr>\n",
       "      <th>AL</th>\n",
       "      <td>9.12</td>\n",
       "      <td>9.03</td>\n",
       "      <td>8.99</td>\n",
       "      <td>8.74</td>\n",
       "      <td>8.74</td>\n",
       "      <td>9.01</td>\n",
       "      <td>9.83</td>\n",
       "      <td>9.86</td>\n",
       "      <td>9.91</td>\n",
       "      <td>9.88</td>\n",
       "      <td>...</td>\n",
       "      <td>5.49</td>\n",
       "      <td>5.56</td>\n",
       "      <td>5.78</td>\n",
       "      <td>5.81</td>\n",
       "      <td>5.56</td>\n",
       "      <td>5.60</td>\n",
       "      <td>5.72</td>\n",
       "      <td>5.87</td>\n",
       "      <td>5.31</td>\n",
       "      <td>5.54</td>\n",
       "    </tr>\n",
       "    <tr>\n",
       "      <th>AK</th>\n",
       "      <td>17.92</td>\n",
       "      <td>17.64</td>\n",
       "      <td>17.50</td>\n",
       "      <td>17.49</td>\n",
       "      <td>18.21</td>\n",
       "      <td>18.00</td>\n",
       "      <td>18.10</td>\n",
       "      <td>18.35</td>\n",
       "      <td>18.73</td>\n",
       "      <td>18.56</td>\n",
       "      <td>...</td>\n",
       "      <td>11.19</td>\n",
       "      <td>10.24</td>\n",
       "      <td>10.78</td>\n",
       "      <td>10.39</td>\n",
       "      <td>10.58</td>\n",
       "      <td>10.55</td>\n",
       "      <td>10.59</td>\n",
       "      <td>10.91</td>\n",
       "      <td>9.92</td>\n",
       "      <td>9.97</td>\n",
       "    </tr>\n",
       "    <tr>\n",
       "      <th>AZ</th>\n",
       "      <td>9.45</td>\n",
       "      <td>9.44</td>\n",
       "      <td>9.27</td>\n",
       "      <td>9.20</td>\n",
       "      <td>9.23</td>\n",
       "      <td>10.31</td>\n",
       "      <td>11.07</td>\n",
       "      <td>11.22</td>\n",
       "      <td>11.43</td>\n",
       "      <td>11.30</td>\n",
       "      <td>...</td>\n",
       "      <td>7.71</td>\n",
       "      <td>7.77</td>\n",
       "      <td>7.87</td>\n",
       "      <td>7.78</td>\n",
       "      <td>8.01</td>\n",
       "      <td>7.86</td>\n",
       "      <td>6.87</td>\n",
       "      <td>6.57</td>\n",
       "      <td>6.48</td>\n",
       "      <td>6.35</td>\n",
       "    </tr>\n",
       "    <tr>\n",
       "      <th>AR</th>\n",
       "      <td>7.68</td>\n",
       "      <td>7.63</td>\n",
       "      <td>7.58</td>\n",
       "      <td>7.79</td>\n",
       "      <td>7.95</td>\n",
       "      <td>7.96</td>\n",
       "      <td>8.71</td>\n",
       "      <td>8.80</td>\n",
       "      <td>8.78</td>\n",
       "      <td>8.48</td>\n",
       "      <td>...</td>\n",
       "      <td>5.67</td>\n",
       "      <td>6.44</td>\n",
       "      <td>6.58</td>\n",
       "      <td>6.47</td>\n",
       "      <td>6.53</td>\n",
       "      <td>6.16</td>\n",
       "      <td>6.04</td>\n",
       "      <td>5.73</td>\n",
       "      <td>5.60</td>\n",
       "      <td>5.69</td>\n",
       "    </tr>\n",
       "    <tr>\n",
       "      <th>CA</th>\n",
       "      <td>14.34</td>\n",
       "      <td>14.53</td>\n",
       "      <td>14.75</td>\n",
       "      <td>14.48</td>\n",
       "      <td>15.11</td>\n",
       "      <td>15.70</td>\n",
       "      <td>17.45</td>\n",
       "      <td>17.29</td>\n",
       "      <td>17.40</td>\n",
       "      <td>16.20</td>\n",
       "      <td>...</td>\n",
       "      <td>12.74</td>\n",
       "      <td>13.13</td>\n",
       "      <td>13.12</td>\n",
       "      <td>13.47</td>\n",
       "      <td>11.34</td>\n",
       "      <td>9.82</td>\n",
       "      <td>9.88</td>\n",
       "      <td>9.89</td>\n",
       "      <td>9.63</td>\n",
       "      <td>8.71</td>\n",
       "    </tr>\n",
       "  </tbody>\n",
       "</table>\n",
       "<p>5 rows × 183 columns</p>\n",
       "</div>"
      ],
      "text/plain": [
       "    201603  201602  201601  201512  201511  201510  201509  201508  201507  \\\n",
       "AL    9.12    9.03    8.99    8.74    8.74    9.01    9.83    9.86    9.91   \n",
       "AK   17.92   17.64   17.50   17.49   18.21   18.00   18.10   18.35   18.73   \n",
       "AZ    9.45    9.44    9.27    9.20    9.23   10.31   11.07   11.22   11.43   \n",
       "AR    7.68    7.63    7.58    7.79    7.95    7.96    8.71    8.80    8.78   \n",
       "CA   14.34   14.53   14.75   14.48   15.11   15.70   17.45   17.29   17.40   \n",
       "\n",
       "    201506   ...    200110  200109  200108  200107  200106  200105  200104  \\\n",
       "AL    9.88   ...      5.49    5.56    5.78    5.81    5.56    5.60    5.72   \n",
       "AK   18.56   ...     11.19   10.24   10.78   10.39   10.58   10.55   10.59   \n",
       "AZ   11.30   ...      7.71    7.77    7.87    7.78    8.01    7.86    6.87   \n",
       "AR    8.48   ...      5.67    6.44    6.58    6.47    6.53    6.16    6.04   \n",
       "CA   16.20   ...     12.74   13.13   13.12   13.47   11.34    9.82    9.88   \n",
       "\n",
       "    200103  200102  200101  \n",
       "AL    5.87    5.31    5.54  \n",
       "AK   10.91    9.92    9.97  \n",
       "AZ    6.57    6.48    6.35  \n",
       "AR    5.73    5.60    5.69  \n",
       "CA    9.89    9.63    8.71  \n",
       "\n",
       "[5 rows x 183 columns]"
      ]
     },
     "execution_count": 22,
     "metadata": {},
     "output_type": "execute_result"
    }
   ],
   "source": []
  },
  {
   "cell_type": "code",
   "execution_count": 23,
   "metadata": {
    "collapsed": true
   },
   "outputs": [],
   "source": [
    "#b.to_csv('./electricity_prices.csv', sep=',')"
   ]
  },
  {
   "cell_type": "code",
   "execution_count": 6,
   "metadata": {
    "collapsed": false
   },
   "outputs": [],
   "source": [
    "#STEP 2: Visualize the mean prices 2000-2016\n",
    "stats=a.describe()"
   ]
  },
  {
   "cell_type": "code",
   "execution_count": 13,
   "metadata": {
    "collapsed": false
   },
   "outputs": [
    {
     "data": {
      "text/plain": [
       "Index([u'AL', u'AK', u'AZ', u'AR', u'CA', u'CO', u'CT', u'DE', u'FL', u'GA',\n",
       "       u'HI', u'ID', u'IL', u'IN', u'IA', u'KS', u'KY', u'LA', u'ME', u'MD',\n",
       "       u'MA', u'MI', u'MN', u'MS', u'MO', u'MT', u'NE', u'NV', u'NH', u'NJ',\n",
       "       u'NM', u'NY', u'NC', u'ND', u'OH', u'OK', u'OR', u'PA', u'RI', u'SC',\n",
       "       u'SD', u'TN', u'TX', u'UT', u'VT', u'VA', u'WA', u'WV', u'WI', u'WY'],\n",
       "      dtype='object')"
      ]
     },
     "execution_count": 13,
     "metadata": {},
     "output_type": "execute_result"
    }
   ],
   "source": [
    "mean_price=stats.ix['mean']\n",
    "    \n",
    "#print mean_price.order(ascending=False)\n",
    "#print mean_price['HI']\n",
    "#print mean_price.describe()"
   ]
  },
  {
   "cell_type": "code",
   "execution_count": 24,
   "metadata": {
    "collapsed": false
   },
   "outputs": [],
   "source": [
    "svg = open('usaLow.svg', 'r').read()\n",
    "soup = BeautifulSoup(svg, 'html.parser')# check that 'html.parser' will work next tim -  , selfClosingTags=['defs','sodipodi:namedview'])\n",
    "paths = soup.findAll('path')\n",
    "colors=['#f1eef6', '#d7b5d8', '#df65b0', '#dd1c77', '#980043']\n",
    "path_style = 'font-size:12px;fill-rule:nonzero;stroke:#FFFFFF;stroke-opacity:1;stroke-width:0.1;stroke-miterlimit:4;stroke-dasharray:none;stroke-linecap:butt;marker-start:none;stroke-linejoin:bevel;fill:'"
   ]
  },
  {
   "cell_type": "code",
   "execution_count": 25,
   "metadata": {
    "collapsed": false
   },
   "outputs": [],
   "source": [
    "for p in paths:\n",
    "    try:\n",
    "        rate = mean_price[p['id'][3:]]\n",
    "    except KeyError:\n",
    "        continue         \n",
    "    \n",
    "    if rate > 15:\n",
    "        color_class = 4\n",
    "    elif rate > 12:\n",
    "        color_class = 3\n",
    "    elif rate > 9:\n",
    "        color_class = 2\n",
    "    elif rate > 6:\n",
    "        color_class = 1\n",
    "    else:\n",
    "        color_class = 0\n",
    "    color = colors[color_class]\n",
    "    p['style'] = path_style + color\n",
    "    #p['fill'] = color"
   ]
  },
  {
   "cell_type": "code",
   "execution_count": 26,
   "metadata": {
    "collapsed": false
   },
   "outputs": [],
   "source": [
    "fp = open('mean_price.svg','wb')\n",
    "fp.write(str(soup))\n",
    "fp.close()"
   ]
  }
 ],
 "metadata": {
  "kernelspec": {
   "display_name": "Python 2",
   "language": "python",
   "name": "python2"
  },
  "language_info": {
   "codemirror_mode": {
    "name": "ipython",
    "version": 2
   },
   "file_extension": ".py",
   "mimetype": "text/x-python",
   "name": "python",
   "nbconvert_exporter": "python",
   "pygments_lexer": "ipython2",
   "version": "2.7.11"
  }
 },
 "nbformat": 4,
 "nbformat_minor": 0
}
