{
 "cells": [
  {
   "cell_type": "code",
   "execution_count": 99,
   "metadata": {
    "collapsed": false
   },
   "outputs": [],
   "source": [
    "import matplotlib\n",
    "matplotlib.use('agg')\n",
    "import pandas as pd\n",
    "from datetime import datetime\n",
    "import matplotlib.pyplot as plt\n",
    "import numpy as np\n",
    "import matplotlib.pyplot as plt\n",
    "import matplotlib.dates as mdates\n",
    "%matplotlib inline "
   ]
  },
  {
   "cell_type": "code",
   "execution_count": 149,
   "metadata": {
    "collapsed": false
   },
   "outputs": [],
   "source": [
    "openpv=pd.read_csv('./Datasets/openpv.csv',index_col=False)\n",
    "openpv=openpv.rename(columns={'Size (kW DC)':'Size_kw'})\n",
    "openpv['Zipcode']=openpv['Zipcode'].apply(str)\n",
    "openpv.loc[519,'State']='IN'\n",
    "openpv['Date_inst']=[ datetime.strptime(i, '%m/%d/%Y') for i in openpv['Date Installed']]\n",
    "openpv.drop('Date Installed',axis=1, inplace=True)\n",
    "openpv.drop('Filters=', axis=1, inplace=True)"
   ]
  },
  {
   "cell_type": "code",
   "execution_count": 150,
   "metadata": {
    "collapsed": false
   },
   "outputs": [
    {
     "data": {
      "text/html": [
       "<div>\n",
       "<table border=\"1\" class=\"dataframe\">\n",
       "  <thead>\n",
       "    <tr style=\"text-align: right;\">\n",
       "      <th></th>\n",
       "      <th>Zipcode</th>\n",
       "      <th>State</th>\n",
       "      <th>Size_kw</th>\n",
       "      <th>Cost</th>\n",
       "      <th>Date_inst</th>\n",
       "    </tr>\n",
       "  </thead>\n",
       "  <tbody>\n",
       "    <tr>\n",
       "      <th>0</th>\n",
       "      <td>85048.0</td>\n",
       "      <td>AZ</td>\n",
       "      <td>9.000</td>\n",
       "      <td>46061.19352</td>\n",
       "      <td>2014-03-10</td>\n",
       "    </tr>\n",
       "    <tr>\n",
       "      <th>1</th>\n",
       "      <td>85268.0</td>\n",
       "      <td>AZ</td>\n",
       "      <td>3.000</td>\n",
       "      <td>15562.94976</td>\n",
       "      <td>2013-08-26</td>\n",
       "    </tr>\n",
       "    <tr>\n",
       "      <th>2</th>\n",
       "      <td>85234.0</td>\n",
       "      <td>AZ</td>\n",
       "      <td>9.180</td>\n",
       "      <td>40172.24862</td>\n",
       "      <td>2014-09-12</td>\n",
       "    </tr>\n",
       "    <tr>\n",
       "      <th>3</th>\n",
       "      <td>85024.0</td>\n",
       "      <td>AZ</td>\n",
       "      <td>7.425</td>\n",
       "      <td>51128.75533</td>\n",
       "      <td>2011-03-02</td>\n",
       "    </tr>\n",
       "    <tr>\n",
       "      <th>4</th>\n",
       "      <td>85201.0</td>\n",
       "      <td>AZ</td>\n",
       "      <td>7.920</td>\n",
       "      <td>40506.65221</td>\n",
       "      <td>2013-01-11</td>\n",
       "    </tr>\n",
       "  </tbody>\n",
       "</table>\n",
       "</div>"
      ],
      "text/plain": [
       "   Zipcode State  Size_kw         Cost  Date_inst\n",
       "0  85048.0    AZ    9.000  46061.19352 2014-03-10\n",
       "1  85268.0    AZ    3.000  15562.94976 2013-08-26\n",
       "2  85234.0    AZ    9.180  40172.24862 2014-09-12\n",
       "3  85024.0    AZ    7.425  51128.75533 2011-03-02\n",
       "4  85201.0    AZ    7.920  40506.65221 2013-01-11"
      ]
     },
     "execution_count": 150,
     "metadata": {},
     "output_type": "execute_result"
    }
   ],
   "source": [
    "openpv.head()"
   ]
  },
  {
   "cell_type": "code",
   "execution_count": 152,
   "metadata": {
    "collapsed": false
   },
   "outputs": [
    {
     "name": "stdout",
     "output_type": "stream",
     "text": [
      "numer or lines 138030\n",
      "unique zipcodes 9284\n",
      "num states 52\n",
      "total size 15604315.0923\n",
      "total cost nan\n"
     ]
    }
   ],
   "source": [
    "print 'numer or lines', len(openpv)\n",
    "print 'unique zipcodes', len(openpv['Zipcode'].unique())\n",
    "print 'num states', len(openpv['State'].unique())\n",
    "print 'total size', sum(openpv['Size_kw'])\n",
    "print 'total cost', sum(openpv['Cost'])"
   ]
  },
  {
   "cell_type": "code",
   "execution_count": 142,
   "metadata": {
    "collapsed": false
   },
   "outputs": [],
   "source": [
    "TimeSeries=openpv.groupby(['Date_inst'])['Size_kw'].sum()\n",
    "TimeSeries.drop(TimeSeries.argmax(),axis=0,inplace=True) #Clear outlier that dwarfs the rest of the graph\n",
    "TimeSeries=TimeSeries[TimeSeries.index.year>2007] #the bulk of the available data\n",
    "TimeSeriesM=TimeSeries.groupby(pd.TimeGrouper(\"M\")).sum()\n",
    "TimeSeriesA=TimeSeries.groupby(pd.TimeGrouper(\"A\")).sum()"
   ]
  },
  {
   "cell_type": "code",
   "execution_count": 147,
   "metadata": {
    "collapsed": false
   },
   "outputs": [
    {
     "data": {
      "text/plain": [
       "<matplotlib.legend.Legend at 0x7faa3eb35050>"
      ]
     },
     "execution_count": 147,
     "metadata": {},
     "output_type": "execute_result"
    },
    {
     "data": {
      "image/png": "[encoded data removed]",
      "text/plain": [
       "<matplotlib.figure.Figure at 0x7faa3eb2c550>"
      ]
     },
     "metadata": {},
     "output_type": "display_data"
    }
   ],
   "source": [
    "plt.title('New solar capacity')\n",
    "plt.plot(TimeSeriesM.index, TimeSeriesM.values, label='Monthly')\n",
    "plt.plot(TimeSeriesA.index, TimeSeriesA.values,'r-', label='Annual')\n",
    "plt.legend()"
   ]
  },
  {
   "cell_type": "code",
   "execution_count": 181,
   "metadata": {
    "collapsed": false
   },
   "outputs": [
    {
     "data": {
      "text/plain": [
       "State\n",
       "CA    74694\n",
       "AZ    20382\n",
       "CT     7900\n",
       "NY     4457\n",
       "MD     3878\n",
       "MA     3376\n",
       "CO     2295\n",
       "HI     2202\n",
       "DE     2071\n",
       "PA     2061\n",
       "NJ     1946\n",
       "DC     1849\n",
       "OR     1815\n",
       "TX     1641\n",
       "FL      958\n",
       "WI      829\n",
       "IN      730\n",
       "TN      597\n",
       "MN      480\n",
       "UT      360\n",
       "dtype: int64"
      ]
     },
     "execution_count": 181,
     "metadata": {},
     "output_type": "execute_result"
    }
   ],
   "source": [
    "states= openpv.groupby(['State'])\n",
    "states_stats=states.size()\n",
    "states_stats.sort(ascending=False) #sorts inplace automatically\n",
    "states_stats[:20]\n",
    "# _values()#(ascending=False)#inplace=True)"
   ]
  },
  {
   "cell_type": "code",
   "execution_count": 235,
   "metadata": {
    "collapsed": false
   },
   "outputs": [
    {
     "name": "stdout",
     "output_type": "stream",
     "text": [
      "Date_inst\n",
      "2008-01-31    17566.9990\n",
      "2008-02-29     7838.0272\n",
      "2008-03-31     8243.7540\n",
      "2008-04-30     5247.4600\n",
      "2008-05-31     5138.8300\n",
      "Freq: M, Name: Size_kw, dtype: float64\n"
     ]
    },
    {
     "data": {
      "text/plain": [
       "<matplotlib.legend.Legend at 0x7faa3edc2e10>"
      ]
     },
     "execution_count": 235,
     "metadata": {},
     "output_type": "execute_result"
    },
    {
     "data": {
      "image/png": "[encoded data removed]",
      "text/plain": [
       "<matplotlib.figure.Figure at 0x7faa3e88bed0>"
      ]
     },
     "metadata": {},
     "output_type": "display_data"
    }
   ],
   "source": [
    "CA=states.get_group('CA')\n",
    "CA_timeseries=CA.groupby(['Date_inst'])['Size_kw'].sum()\n",
    "CA_timeseries=CA_timeseries[CA_timeseries.index.year>2007] #the bulk of the available data\n",
    "CA_timeseries=CA_timeseries.groupby(pd.TimeGrouper(\"M\")).sum()\n",
    "\n",
    "AZ=states.get_group('AZ')\n",
    "AZ_timeseries=AZ.groupby(['Date_inst'])['Size_kw'].sum()\n",
    "AZ_timeseries=AZ_timeseries[AZ_timeseries.index.year>2007] #the bulk of the available data\n",
    "AZ_timeseries=AZ_timeseries.groupby(pd.TimeGrouper(\"M\")).sum()\n",
    "\n",
    "CT=states.get_group('CT')\n",
    "CT_timeseries=CT.groupby(['Date_inst'])['Size_kw'].sum()\n",
    "CT_timeseries=CT_timeseries[CT_timeseries.index.year>2007] #the bulk of the available data\n",
    "CT_timeseries=CT_timeseries.groupby(pd.TimeGrouper(\"M\")).sum()\n",
    "\n",
    "NY=states.get_group('NY')\n",
    "NY_timeseries=NY.groupby(['Date_inst'])['Size_kw'].sum()\n",
    "NY_timeseries=NY_timeseries[NY_timeseries.index.year>2007] #the bulk of the available data\n",
    "NY_timeseries=NY_timeseries.groupby(pd.TimeGrouper(\"M\")).sum()\n",
    "\n",
    "\n",
    "plt.title('New solar capacity, top states')\n",
    "plt.plot(CA_timeseries.index, CA_timeseries.values, label='CA')\n",
    "plt.plot(AZ_timeseries.index, AZ_timeseries.values, 'r-', label='AZ')\n",
    "plt.plot(CT_timeseries.index, CT_timeseries.values, 'g-', label='AZ')\n",
    "plt.plot(NY_timeseries.index, NY_timeseries.values, 'm-', label='AZ')\n",
    "\n",
    "plt.legend()"
   ]
  },
  {
   "cell_type": "code",
   "execution_count": 255,
   "metadata": {
    "collapsed": false
   },
   "outputs": [
    {
     "name": "stdout",
     "output_type": "stream",
     "text": [
      "Zipcode  Date_inst \n",
      "10001.0  2011-07-31    27.600000\n",
      "         2012-01-31    30.360000\n",
      "10002.0  2003-07-31    32.780000\n",
      "         2003-11-30    34.809632\n",
      "         2005-06-30    43.003118\n",
      "Name: Size_kw, dtype: float64\n"
     ]
    }
   ],
   "source": [
    "#Creating dataset for the CartDB visualization - cumulative solar over time\n",
    "open2000=openpv[openpv['Date_inst']>='2000']\n",
    "zips=open2000.groupby(['Zipcode', pd.TimeGrouper(key='Date_inst', freq='M')])['Size_kw'].sum()\n",
    "zips =zips.cumsum()\n",
    "zips.to_csv('./Datasets/Installed_Solar_byZip002.csv', sep=',')\n",
    "print zips[:5]"
   ]
  },
  {
   "cell_type": "code",
   "execution_count": 253,
   "metadata": {
    "collapsed": false
   },
   "outputs": [],
   "source": [
    "zips=zips.to_frame()\n",
    "zips=zips.reset_index()\n",
    "zips=zips.pivot(index='Zipcode', columns='Date_inst', values='Size_kw')"
   ]
  },
  {
   "cell_type": "code",
   "execution_count": 254,
   "metadata": {
    "collapsed": false
   },
   "outputs": [],
   "source": [
    "zips.to_csv('./Datasets/Installed_Solar_byZip.csv', sep=',')"
   ]
  }
 ],
 "metadata": {
  "kernelspec": {
   "display_name": "Python 2",
   "language": "python",
   "name": "python2"
  },
  "language_info": {
   "codemirror_mode": {
    "name": "ipython",
    "version": 2
   },
   "file_extension": ".py",
   "mimetype": "text/x-python",
   "name": "python",
   "nbconvert_exporter": "python",
   "pygments_lexer": "ipython2",
   "version": "2.7.11"
  }
 },
 "nbformat": 4,
 "nbformat_minor": 0
}
