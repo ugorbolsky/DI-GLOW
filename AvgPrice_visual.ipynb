{
 "cells": [
  {
   "cell_type": "code",
   "execution_count": 1,
   "metadata": {
    "collapsed": true
   },
   "outputs": [],
   "source": [
    "import urllib2\n",
    "import json\n",
    "import numpy as np\n",
    "import pylab\n",
    "from bokeh.plotting import figure, output_file, show\n",
    "from bokeh.palettes import Spectral11\n",
    "import pandas as pd\n",
    "from bs4 import BeautifulSoup"
   ]
  },
  {
   "cell_type": "code",
   "execution_count": 2,
   "metadata": {
    "collapsed": false
   },
   "outputs": [
    {
     "name": "stdout",
     "output_type": "stream",
     "text": [
      "[u'201603', u'201602', u'201601', u'201512', u'201511', u'201510', u'201509', u'201508', u'201507', u'201506', u'201505', u'201504', u'201503', u'201502', u'201501', u'201412', u'201411', u'201410', u'201409', u'201408', u'201407', u'201406', u'201405', u'201404', u'201403', u'201402', u'201401', u'201312', u'201311', u'201310', u'201309', u'201308', u'201307', u'201306', u'201305', u'201304', u'201303', u'201302', u'201301', u'201212', u'201211', u'201210', u'201209', u'201208', u'201207', u'201206', u'201205', u'201204', u'201203', u'201202', u'201201', u'201112', u'201111', u'201110', u'201109', u'201108', u'201107', u'201106', u'201105', u'201104', u'201103', u'201102', u'201101', u'201012', u'201011', u'201010', u'201009', u'201008', u'201007', u'201006', u'201005', u'201004', u'201003', u'201002', u'201001', u'200912', u'200911', u'200910', u'200909', u'200908', u'200907', u'200906', u'200905', u'200904', u'200903', u'200902', u'200901', u'200812', u'200811', u'200810', u'200809', u'200808', u'200807', u'200806', u'200805', u'200804', u'200803', u'200802', u'200801', u'200712', u'200711', u'200710', u'200709', u'200708', u'200707', u'200706', u'200705', u'200704', u'200703', u'200702', u'200701', u'200612', u'200611', u'200610', u'200609', u'200608', u'200607', u'200606', u'200605', u'200604', u'200603', u'200602', u'200601', u'200512', u'200511', u'200510', u'200509', u'200508', u'200507', u'200506', u'200505', u'200504', u'200503', u'200502', u'200501', u'200412', u'200411', u'200410', u'200409', u'200408', u'200407', u'200406', u'200405', u'200404', u'200403', u'200402', u'200401', u'200312', u'200311', u'200310', u'200309', u'200308', u'200307', u'200306', u'200305', u'200304', u'200303', u'200302', u'200301', u'200212', u'200211', u'200210', u'200209', u'200208', u'200207', u'200206', u'200205', u'200204', u'200203', u'200202', u'200201', u'200112', u'200111', u'200110', u'200109', u'200108', u'200107', u'200106', u'200105', u'200104', u'200103', u'200102', u'200101']\n"
     ]
    }
   ],
   "source": [
    "def pullDates():\n",
    "    api_key='2B175EF8A024C543D84E2A581F139C0A'        \n",
    "    url='http://api.eia.gov/series/?api_key='+ api_key+'&series_id=ELEC.PRICE.CA-ALL.M'\n",
    "    json_obj= urllib2.urlopen(url)\n",
    "    data = json.load(json_obj)\n",
    "    dates=[]     \n",
    "    for i in data['series'][0]['data']:\n",
    "        dates.append(i[0])\n",
    "    #statePrice=pd.DataFrame(np.nan)   \n",
    "    return dates\n",
    "dates=pullDates()\n",
    "print dates"
   ]
  },
  {
   "cell_type": "code",
   "execution_count": 4,
   "metadata": {
    "collapsed": false
   },
   "outputs": [],
   "source": [
    "def pullDataByState(state):\n",
    "    api_key='2B175EF8A024C543D84E2A581F139C0A'        \n",
    "    url='http://api.eia.gov/series/?api_key='+ api_key+'&series_id=ELEC.PRICE.'+str(state)+ '-ALL.M'\n",
    "    json_obj= urllib2.urlopen(url)\n",
    "    data = json.load(json_obj)\n",
    "    prices=[]     \n",
    "    for i in data['series'][0]['data']:\n",
    "        prices.append(i[1])\n",
    "    #statePrice=pd.DataFrame(np.nan)   \n",
    "    return prices\n",
    "#print pullDataByState('CA')"
   ]
  },
  {
   "cell_type": "code",
   "execution_count": 5,
   "metadata": {
    "collapsed": false
   },
   "outputs": [],
   "source": [
    "States=['AL','AK','AZ','AR','CA','CO','CT','DE','FL','GA','HI','ID','IL','IN','IA','KS','KY','LA','ME','MD','MA','MI','MN','MS','MO','MT','NE','NV','NH','NJ','NM','NY','NC','ND','OH','OK','OR','PA','RI','SC','SD','TN','TX','UT','VT','VA','WA','WV','WI','WY']\n",
    "\n",
    "def PriceDF():\n",
    "    df=pd.DataFrame(np.nan, index=pullDates(), columns=States)    \n",
    "    for state in States:\n",
    "        df[state]=pullDataByState(state)\n",
    "    return df\n",
    "    \n",
    "a=PriceDF()\n",
    "#print a"
   ]
  },
  {
   "cell_type": "code",
   "execution_count": 6,
   "metadata": {
    "collapsed": false
   },
   "outputs": [],
   "source": [
    "stats=a.describe()"
   ]
  },
  {
   "cell_type": "code",
   "execution_count": 13,
   "metadata": {
    "collapsed": false
   },
   "outputs": [
    {
     "data": {
      "text/plain": [
       "Index([u'AL', u'AK', u'AZ', u'AR', u'CA', u'CO', u'CT', u'DE', u'FL', u'GA',\n",
       "       u'HI', u'ID', u'IL', u'IN', u'IA', u'KS', u'KY', u'LA', u'ME', u'MD',\n",
       "       u'MA', u'MI', u'MN', u'MS', u'MO', u'MT', u'NE', u'NV', u'NH', u'NJ',\n",
       "       u'NM', u'NY', u'NC', u'ND', u'OH', u'OK', u'OR', u'PA', u'RI', u'SC',\n",
       "       u'SD', u'TN', u'TX', u'UT', u'VT', u'VA', u'WA', u'WV', u'WI', u'WY'],\n",
       "      dtype='object')"
      ]
     },
     "execution_count": 13,
     "metadata": {},
     "output_type": "execute_result"
    }
   ],
   "source": [
    "mean_price=stats.ix['mean']\n",
    "    \n",
    "#print mean_price.order(ascending=False)\n",
    "#print mean_price['HI']\n",
    "#print mean_price.describe()"
   ]
  },
  {
   "cell_type": "code",
   "execution_count": 24,
   "metadata": {
    "collapsed": false
   },
   "outputs": [],
   "source": [
    "svg = open('usaLow.svg', 'r').read()\n",
    "soup = BeautifulSoup(svg, 'html.parser')# check that 'html.parser' will work next tim -  , selfClosingTags=['defs','sodipodi:namedview'])\n",
    "#print soup.prettify()\n",
    "paths = soup.findAll('path')\n",
    "colors=['#f1eef6', '#d7b5d8', '#df65b0', '#dd1c77', '#980043']\n",
    "path_style = 'font-size:12px;fill-rule:nonzero;stroke:#FFFFFF;stroke-opacity:1;stroke-width:0.1;stroke-miterlimit:4;stroke-dasharray:none;stroke-linecap:butt;marker-start:none;stroke-linejoin:bevel;fill:'\n",
    "#print soup.prettify()\n",
    "#print paths[0]"
   ]
  },
  {
   "cell_type": "code",
   "execution_count": 25,
   "metadata": {
    "collapsed": false
   },
   "outputs": [],
   "source": [
    "for p in paths:\n",
    "    try:\n",
    "        rate = mean_price[p['id'][3:]]\n",
    "    except KeyError:\n",
    "        continue         \n",
    "    \n",
    "    if rate > 15:\n",
    "        color_class = 4\n",
    "    elif rate > 12:\n",
    "        color_class = 3\n",
    "    elif rate > 9:\n",
    "        color_class = 2\n",
    "    elif rate > 6:\n",
    "        color_class = 1\n",
    "    else:\n",
    "        color_class = 0\n",
    "    color = colors[color_class]\n",
    "    p['style'] = path_style + color\n",
    "    #p['fill'] = color"
   ]
  },
  {
   "cell_type": "code",
   "execution_count": 26,
   "metadata": {
    "collapsed": false
   },
   "outputs": [],
   "source": [
    "fp = open('mean_price.svg','wb')\n",
    "fp.write(str(soup))\n",
    "fp.close()"
   ]
  }
 ],
 "metadata": {
  "kernelspec": {
   "display_name": "Python 2",
   "language": "python",
   "name": "python2"
  },
  "language_info": {
   "codemirror_mode": {
    "name": "ipython",
    "version": 2
   },
   "file_extension": ".py",
   "mimetype": "text/x-python",
   "name": "python",
   "nbconvert_exporter": "python",
   "pygments_lexer": "ipython2",
   "version": "2.7.11"
  }
 },
 "nbformat": 4,
 "nbformat_minor": 0
}
